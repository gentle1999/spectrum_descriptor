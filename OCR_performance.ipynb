{
 "cells": [
  {
   "attachments": {},
   "cell_type": "markdown",
   "metadata": {},
   "source": [
    "# The performance of OCR tools for different types of spectrum image\n",
    "\n",
    "The purpose of this notebook is to illustrate the capability of our designed OCR tool in processing HNMR, CNMR, IR and Mass spectrum images.\n",
    "\n",
    "The OCR spectrum image processing script ([Img2Spec](utils/img2spec.py)) has some requirements for the input spectrum image. Figure 1 shows an ideal example. The image needs to have a ppm axis (x-axis) described numerically, and the axis representing the intensity (y-axis) is optional, since the intensity values are normalized to the range of 0-1. The top and right borders are considered illegal in the tool, and if there are extra borders in the original image, users should remove them through image pre-processing. The x-axis needs to have a recognizable axis scale to be bound to its corresponding scale label. For the spectrum line part of the spectrum image, the script scans the entire spectrum line from left to right and takes the height of the first non-empty pixel point identified from top to bottom as the intensity value at this position. Therefore, we want the user-supplied spectrum images to be as clean as possible, where the numeric labels on the axes should be in a clear default font to avoid misidentification of the numbers. If the image has a y-axis, then its label should be vertical text.\n",
    "\n",
    "![An example of an ideal processable spectrum image: HNMR spectrum image of 1-bromo-4-methoxybenzene from the SciFinder database](sciFinder-spectrum/HNMR/104-92-7.png)\n",
    "\n",
    "Figure 1. An example of an ideal processable spectrum image: HNMR spectrum image of 1-bromo-4-methoxybenzene from the SciFinder database"
   ]
  },
  {
   "attachments": {},
   "cell_type": "markdown",
   "metadata": {},
   "source": [
    "## Data source\n",
    "\n",
    "All spectrum images were retrieved from the [SciFinder](https://scifinder.cas.org/) database, and detailed sources are stored in [sciFinder-spectrum/spectrum_information.csv](sciFinder-spectrum/spectrum_information.csv)"
   ]
  },
  {
   "attachments": {},
   "cell_type": "markdown",
   "metadata": {},
   "source": [
    "## HNMR\n",
    "\n"
   ]
  },
  {
   "cell_type": "code",
   "execution_count": 1,
   "metadata": {},
   "outputs": [
    {
     "name": "stdout",
     "output_type": "stream",
     "text": [
      "success, sciFinder-spectrum/HNMR/1120-90-7.png\n",
      "success, sciFinder-spectrum/HNMR/696-62-8.png\n",
      "success, sciFinder-spectrum/HNMR/402-43-7.png\n",
      "success, sciFinder-spectrum/HNMR/626-55-1.png\n",
      "success, sciFinder-spectrum/HNMR/98-56-6.png\n",
      "success, sciFinder-spectrum/HNMR/109-09-1.png\n",
      "success, sciFinder-spectrum/HNMR/623-12-1.png\n",
      "success, sciFinder-spectrum/HNMR/25309-64-2.png\n",
      "success, sciFinder-spectrum/HNMR/455-13-0.png\n",
      "success, sciFinder-spectrum/HNMR/1585-07-5.png\n",
      "success, sciFinder-spectrum/HNMR/622-98-0.png\n",
      "success, sciFinder-spectrum/HNMR/626-60-8.png\n",
      "success, sciFinder-spectrum/HNMR/104-92-7.png\n",
      "success, sciFinder-spectrum/HNMR/5029-67-4.png\n",
      "success, sciFinder-spectrum/HNMR/109-04-6.png\n"
     ]
    }
   ],
   "source": [
    "from utils.img2spec import train_number_model, Img2Spec\n",
    "import warnings\n",
    "warnings.filterwarnings(\"ignore\")\n",
    "\n",
    "spec_path = 'sciFinder-spectrum'\n",
    "number_model_path = './model/recog_label_model_test.pth'\n",
    "digit_spec_path = 'digit_spec'\n",
    "\n",
    "Img2Spec('{}/{}'.format(spec_path, 'HNMR'), number_model_path,\n",
    "         'HNMR', '{}'.format(digit_spec_path)).img_process()\n"
   ]
  },
  {
   "attachments": {},
   "cell_type": "markdown",
   "metadata": {},
   "source": [
    "## CNMR"
   ]
  },
  {
   "cell_type": "code",
   "execution_count": 2,
   "metadata": {},
   "outputs": [
    {
     "name": "stdout",
     "output_type": "stream",
     "text": [
      "success, sciFinder-spectrum/CNMR/1120-90-7.png\n",
      "success, sciFinder-spectrum/CNMR/696-62-8.png\n",
      "success, sciFinder-spectrum/CNMR/402-43-7.png\n",
      "success, sciFinder-spectrum/CNMR/626-55-1.png\n",
      "success, sciFinder-spectrum/CNMR/98-56-6.png\n",
      "success, sciFinder-spectrum/CNMR/109-09-1.png\n",
      "success, sciFinder-spectrum/CNMR/623-12-1.png\n",
      "success, sciFinder-spectrum/CNMR/25309-64-2.png\n",
      "success, sciFinder-spectrum/CNMR/455-13-0.png\n",
      "success, sciFinder-spectrum/CNMR/1585-07-5.png\n",
      "success, sciFinder-spectrum/CNMR/622-98-0.jpg\n",
      "success, sciFinder-spectrum/CNMR/626-60-8.png\n",
      "success, sciFinder-spectrum/CNMR/104-92-7.png\n",
      "success, sciFinder-spectrum/CNMR/5029-67-4.png\n",
      "success, sciFinder-spectrum/CNMR/109-04-6.png\n"
     ]
    }
   ],
   "source": [
    "from utils.img2spec import train_number_model, Img2Spec\n",
    "import warnings\n",
    "warnings.filterwarnings(\"ignore\")\n",
    "\n",
    "spec_path = 'sciFinder-spectrum'\n",
    "number_model_path = './model/recog_label_model_test.pth'\n",
    "digit_spec_path = 'digit_spec'\n",
    "\n",
    "Img2Spec('{}/{}'.format(spec_path, 'CNMR'), number_model_path,\n",
    "         'CNMR', '{}'.format(digit_spec_path)).img_process()"
   ]
  },
  {
   "attachments": {},
   "cell_type": "markdown",
   "metadata": {},
   "source": [
    "## IR"
   ]
  },
  {
   "attachments": {},
   "cell_type": "markdown",
   "metadata": {},
   "source": [
    "A typical IR spectrum is shown in Figure 2, and our OCR tool is perfectly compatible with this format\n",
    "\n",
    "![Figure 2](sciFinder-spectrum/IR/104-92-7.png)\n",
    "\n",
    "Figure 2. An example of an ideal processable spectrum image: IR spectrum image of 1-bromo-4-methoxybenzene from the SciFinder database"
   ]
  },
  {
   "cell_type": "code",
   "execution_count": 3,
   "metadata": {},
   "outputs": [
    {
     "name": "stdout",
     "output_type": "stream",
     "text": [
      "success, sciFinder-spectrum/IR/1120-90-7.png\n",
      "success, sciFinder-spectrum/IR/696-62-8.png\n",
      "success, sciFinder-spectrum/IR/402-43-7.png\n",
      "success, sciFinder-spectrum/IR/626-55-1.png\n",
      "success, sciFinder-spectrum/IR/98-56-6.png\n",
      "success, sciFinder-spectrum/IR/109-09-1.png\n",
      "success, sciFinder-spectrum/IR/623-12-1.png\n",
      "success, sciFinder-spectrum/IR/455-13-0.png\n",
      "success, sciFinder-spectrum/IR/1585-07-5.png\n",
      "success, sciFinder-spectrum/IR/622-98-0.png\n",
      "success, sciFinder-spectrum/IR/626-60-8.png\n",
      "success, sciFinder-spectrum/IR/104-92-7.png\n",
      "success, sciFinder-spectrum/IR/109-04-6.png\n"
     ]
    }
   ],
   "source": [
    "from utils.img2spec import train_number_model, Img2Spec\n",
    "import warnings\n",
    "warnings.filterwarnings(\"ignore\")\n",
    "\n",
    "spec_path = 'sciFinder-spectrum'\n",
    "number_model_path = './model/recog_label_model_test.pth'\n",
    "digit_spec_path = 'digit_spec'\n",
    "\n",
    "Img2Spec('{}/{}'.format(spec_path, 'IR'), number_model_path,\n",
    "         'IR', '{}'.format(digit_spec_path)).img_process()"
   ]
  },
  {
   "attachments": {},
   "cell_type": "markdown",
   "metadata": {},
   "source": [
    "## Mass"
   ]
  },
  {
   "attachments": {},
   "cell_type": "markdown",
   "metadata": {},
   "source": [
    "A typical Mass image is shown in figure 3 and can be easily recognized.\n",
    "\n",
    "![Figure 3](sciFinder-spectrum/MS/104-92-7.png)\n",
    "\n",
    "Figure 3. An example of an ideal processable spectrum image: Mass spectrum image of 1-bromo-4-methoxybenzene from the SciFinder database.\n",
    "\n",
    "Here we show an atypical Mass image Figure 4, which has more borders than the standard image. In addition, the font in that image is not compliant with the specification, and the label of the y-axis is not in the correct orientation. We cannot identify valid information from the original image, but the image can provide valid spectral information after a simple pre-processing, i.e., removing the redundant borders and changing the label without involving the main body of the image.\n",
    "\n",
    "![Figure 4 original](sciFinder-spectrum/MS/5029-67-4.gif)![Figure 4 pre-processed](sciFinder-spectrum/MS/5029-67-4.png)\n",
    "\n",
    "Figure 4. The image on the left is the original image obtained from the SciFinder database, and the image on the right is the image after removing the extra borders: Mass spectrum image of 2-Iodopyridine."
   ]
  },
  {
   "cell_type": "code",
   "execution_count": 4,
   "metadata": {},
   "outputs": [
    {
     "name": "stdout",
     "output_type": "stream",
     "text": [
      "success, sciFinder-spectrum/MS/1120-90-7.png\n",
      "success, sciFinder-spectrum/MS/696-62-8.png\n",
      "success, sciFinder-spectrum/MS/402-43-7.png\n",
      "success, sciFinder-spectrum/MS/626-55-1.png\n",
      "success, sciFinder-spectrum/MS/98-56-6.png\n",
      "success, sciFinder-spectrum/MS/109-09-1.png\n",
      "success, sciFinder-spectrum/MS/623-12-1.png\n",
      "success, sciFinder-spectrum/MS/455-13-0.png\n",
      "success, sciFinder-spectrum/MS/1585-07-5.png\n",
      "success, sciFinder-spectrum/MS/622-98-0.png\n",
      "success, sciFinder-spectrum/MS/626-60-8.png\n",
      "success, sciFinder-spectrum/MS/104-92-7.png\n",
      "success, sciFinder-spectrum/MS/5029-67-4.png\n",
      "success, sciFinder-spectrum/MS/109-04-6.png\n"
     ]
    }
   ],
   "source": [
    "from utils.img2spec import train_number_model, Img2Spec\n",
    "import warnings\n",
    "warnings.filterwarnings(\"ignore\")\n",
    "\n",
    "spec_path = 'sciFinder-spectrum'\n",
    "number_model_path = './model/recog_label_model_test.pth'\n",
    "digit_spec_path = 'digit_spec'\n",
    "\n",
    "Img2Spec('{}/{}'.format(spec_path, 'MS'), number_model_path,\n",
    "         'MS', '{}'.format(digit_spec_path)).img_process()"
   ]
  },
  {
   "attachments": {},
   "cell_type": "markdown",
   "metadata": {},
   "source": [
    "## Conclusion\n",
    "\n",
    "All successfully generated digitized spectrum are saved in the [digit_spec](digit_spec) directory. The common IR and MS spectrum images are not very different from HNMR and CNMR in format, so our OCR tool can also be used to identify IR and MS spectrum images that meet the above conditions. For some images with recognition errors, users can try to adjust the format of the images (e.g., remove the extra borders) to achieve recognition without involving the data subjects in the images. \n",
    "\n",
    "Here are some suggestions to help improve the success rate of recognition:\n",
    "\n",
    "- If the input image has extra borders or table headers, please remove them in advance.\n",
    "- If the input image has a non-grayscale grid background, please remove the part of the grid background belonging to the color in advance by image processing software.\n",
    "- If the image coordinate label is incorrectly recognized, try to replace the label itself with a recognizable font in its original position; for the label on the y-axis, it must be vertical text."
   ]
  }
 ],
 "metadata": {
  "kernelspec": {
   "display_name": "spec",
   "language": "python",
   "name": "python3"
  },
  "language_info": {
   "codemirror_mode": {
    "name": "ipython",
    "version": 3
   },
   "file_extension": ".py",
   "mimetype": "text/x-python",
   "name": "python",
   "nbconvert_exporter": "python",
   "pygments_lexer": "ipython3",
   "version": "3.7.15 (default, Nov  7 2022, 22:00:21) \n[GCC 11.2.0]"
  },
  "orig_nbformat": 4,
  "vscode": {
   "interpreter": {
    "hash": "a16be7b04b7050b43b0a631d293cade952d5969c2521f169f330309364498d53"
   }
  }
 },
 "nbformat": 4,
 "nbformat_minor": 2
}
