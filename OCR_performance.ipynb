{
 "cells": [
  {
   "attachments": {},
   "cell_type": "markdown",
   "metadata": {},
   "source": [
    "# The performance of OCR tools for different types of spectrum image\n",
    "\n",
    "The purpose of this notebook is to illustrate the capability of our designed OCR tool in processing HNMR, CNMR, IR, and MS spectrum images.\n",
    "\n",
    "The OCR spectral image processing script (Img2Spec) has some requirements for the input spectral image. Figure 1 shows an ideal example. The image needs to have a ppm axis (x-axis) described numerically, and the axis representing the intensity (y-axis) is optional, since the intensity values are normalized to the range of 0-1. The x-axis needs to have a recognizable axis scale to be bound to its corresponding scale label. For the spectral line part of the spectral image, the script scans the entire spectral line from left to right and takes the height of the first non-empty pixel point identified from top to bottom as the intensity value at this position. Therefore, we want the user-supplied spectral images to be as clean as possible, where the numeric labels on the axes should be in a clear default font to avoid misidentification of the numbers.\n",
    "\n",
    "![An example of an ideal processable spectral image: HNMR spectral image of 1-bromo-4-methoxybenzene from the SciFinder database](sciFinder-spectrum/HNMR/104-92-7.png)\n",
    "\n",
    "Figure 1. An example of an ideal processable spectral image: HNMR spectral image of 1-bromo-4-methoxybenzene from the SciFinder database"
   ]
  },
  {
   "attachments": {},
   "cell_type": "markdown",
   "metadata": {},
   "source": [
    "## Data source\n",
    "\n",
    "All spectrum images were retrieved from the [SciFinder](https://scifinder.cas.org/) database, and detailed sources are stored in [sciFinder-spectrum/spectrum_information.csv](sciFinder-spectrum/spectrum_information.csv)"
   ]
  },
  {
   "attachments": {},
   "cell_type": "markdown",
   "metadata": {},
   "source": [
    "## HNMR\n",
    "\n"
   ]
  },
  {
   "cell_type": "code",
   "execution_count": 1,
   "metadata": {},
   "outputs": [
    {
     "name": "stdout",
     "output_type": "stream",
     "text": [
      "success, sciFinder-spectrum/HNMR/1120-90-7.png\n",
      "success, sciFinder-spectrum/HNMR/696-62-8.png\n",
      "success, sciFinder-spectrum/HNMR/402-43-7.png\n",
      "success, sciFinder-spectrum/HNMR/626-55-1.png\n",
      "success, sciFinder-spectrum/HNMR/98-56-6.png\n",
      "success, sciFinder-spectrum/HNMR/109-09-1.png\n",
      "success, sciFinder-spectrum/HNMR/623-12-1.png\n",
      "success, sciFinder-spectrum/HNMR/25309-64-2.png\n",
      "success, sciFinder-spectrum/HNMR/455-13-0.png\n",
      "success, sciFinder-spectrum/HNMR/1585-07-5.png\n",
      "success, sciFinder-spectrum/HNMR/622-98-0.png\n",
      "success, sciFinder-spectrum/HNMR/626-60-8.png\n",
      "success, sciFinder-spectrum/HNMR/104-92-7.png\n",
      "success, sciFinder-spectrum/HNMR/5029-67-4.png\n",
      "success, sciFinder-spectrum/HNMR/109-04-6.png\n"
     ]
    }
   ],
   "source": [
    "from utils.img2spec import train_number_model, Img2Spec\n",
    "import warnings\n",
    "warnings.filterwarnings(\"ignore\")\n",
    "\n",
    "spec_path = 'sciFinder-spectrum'\n",
    "number_model_path = './model/recog_label_model_test.pth'\n",
    "digit_spec_path = 'digit_spec'\n",
    "\n",
    "Img2Spec('{}/{}'.format(spec_path, 'HNMR'), number_model_path,\n",
    "         'HNMR', '{}'.format(digit_spec_path)).img_process()\n"
   ]
  },
  {
   "attachments": {},
   "cell_type": "markdown",
   "metadata": {},
   "source": [
    "## CNMR"
   ]
  },
  {
   "cell_type": "code",
   "execution_count": 2,
   "metadata": {},
   "outputs": [
    {
     "name": "stdout",
     "output_type": "stream",
     "text": [
      "success, sciFinder-spectrum/CNMR/1120-90-7.png\n",
      "success, sciFinder-spectrum/CNMR/696-62-8.png\n",
      "success, sciFinder-spectrum/CNMR/402-43-7.png\n",
      "success, sciFinder-spectrum/CNMR/626-55-1.png\n",
      "success, sciFinder-spectrum/CNMR/98-56-6.png\n",
      "success, sciFinder-spectrum/CNMR/109-09-1.png\n",
      "success, sciFinder-spectrum/CNMR/623-12-1.png\n",
      "success, sciFinder-spectrum/CNMR/25309-64-2.png\n",
      "success, sciFinder-spectrum/CNMR/455-13-0.png\n",
      "success, sciFinder-spectrum/CNMR/1585-07-5.png\n",
      "success, sciFinder-spectrum/CNMR/622-98-0.jpg\n",
      "success, sciFinder-spectrum/CNMR/626-60-8.png\n",
      "success, sciFinder-spectrum/CNMR/104-92-7.png\n",
      "success, sciFinder-spectrum/CNMR/5029-67-4.png\n",
      "success, sciFinder-spectrum/CNMR/109-04-6.png\n"
     ]
    }
   ],
   "source": [
    "from utils.img2spec import train_number_model, Img2Spec\n",
    "import warnings\n",
    "warnings.filterwarnings(\"ignore\")\n",
    "\n",
    "spec_path = 'sciFinder-spectrum'\n",
    "number_model_path = './model/recog_label_model_test.pth'\n",
    "digit_spec_path = 'digit_spec'\n",
    "\n",
    "Img2Spec('{}/{}'.format(spec_path, 'CNMR'), number_model_path,\n",
    "         'CNMR', '{}'.format(digit_spec_path)).img_process()"
   ]
  },
  {
   "attachments": {},
   "cell_type": "markdown",
   "metadata": {},
   "source": [
    "## IR"
   ]
  },
  {
   "cell_type": "code",
   "execution_count": 3,
   "metadata": {},
   "outputs": [
    {
     "name": "stdout",
     "output_type": "stream",
     "text": [
      "success, sciFinder-spectrum/IR/1120-90-7.png\n",
      "success, sciFinder-spectrum/IR/696-62-8.png\n",
      "success, sciFinder-spectrum/IR/402-43-7.png\n",
      "success, sciFinder-spectrum/IR/626-55-1.png\n",
      "success, sciFinder-spectrum/IR/98-56-6.png\n",
      "success, sciFinder-spectrum/IR/109-09-1.png\n",
      "success, sciFinder-spectrum/IR/623-12-1.png\n",
      "success, sciFinder-spectrum/IR/455-13-0.png\n",
      "success, sciFinder-spectrum/IR/1585-07-5.png\n",
      "success, sciFinder-spectrum/IR/622-98-0.png\n",
      "success, sciFinder-spectrum/IR/626-60-8.png\n",
      "success, sciFinder-spectrum/IR/104-92-7.png\n",
      "success, sciFinder-spectrum/IR/109-04-6.png\n"
     ]
    }
   ],
   "source": [
    "from utils.img2spec import train_number_model, Img2Spec\n",
    "import warnings\n",
    "warnings.filterwarnings(\"ignore\")\n",
    "\n",
    "spec_path = 'sciFinder-spectrum'\n",
    "number_model_path = './model/recog_label_model_test.pth'\n",
    "digit_spec_path = 'digit_spec'\n",
    "\n",
    "Img2Spec('{}/{}'.format(spec_path, 'IR'), number_model_path,\n",
    "         'IR', '{}'.format(digit_spec_path)).img_process()"
   ]
  },
  {
   "attachments": {},
   "cell_type": "markdown",
   "metadata": {},
   "source": [
    "## MS"
   ]
  },
  {
   "cell_type": "code",
   "execution_count": 4,
   "metadata": {},
   "outputs": [
    {
     "name": "stdout",
     "output_type": "stream",
     "text": [
      "success, sciFinder-spectrum/MS/1120-90-7.png\n",
      "success, sciFinder-spectrum/MS/696-62-8.png\n",
      "success, sciFinder-spectrum/MS/402-43-7.png\n",
      "success, sciFinder-spectrum/MS/626-55-1.png\n",
      "success, sciFinder-spectrum/MS/98-56-6.png\n",
      "success, sciFinder-spectrum/MS/109-09-1.png\n",
      "success, sciFinder-spectrum/MS/623-12-1.png\n",
      "success, sciFinder-spectrum/MS/455-13-0.png\n",
      "success, sciFinder-spectrum/MS/1585-07-5.png\n",
      "success, sciFinder-spectrum/MS/622-98-0.png\n",
      "success, sciFinder-spectrum/MS/626-60-8.png\n",
      "success, sciFinder-spectrum/MS/104-92-7.png\n",
      "success, sciFinder-spectrum/MS/5029-67-4.png\n",
      "success, sciFinder-spectrum/MS/109-04-6.png\n"
     ]
    }
   ],
   "source": [
    "from utils.img2spec import train_number_model, Img2Spec\n",
    "import warnings\n",
    "warnings.filterwarnings(\"ignore\")\n",
    "\n",
    "spec_path = 'sciFinder-spectrum'\n",
    "number_model_path = './model/recog_label_model_test.pth'\n",
    "digit_spec_path = 'digit_spec'\n",
    "\n",
    "Img2Spec('{}/{}'.format(spec_path, 'MS'), number_model_path,\n",
    "         'MS', '{}'.format(digit_spec_path)).img_process()"
   ]
  },
  {
   "attachments": {},
   "cell_type": "markdown",
   "metadata": {},
   "source": [
    "## conclusion\n",
    "\n",
    "All successfully generated digitized spectrum are saved in the [digit_spec](digit_spec) directory. The common IR and MS spectrum images are not very different from HNMR and CNMR in format, so our OCR tool can also be used to identify IR and MS spectrum images that meet the above conditions. For some images with recognition errors, users can try to adjust the format of the images (e.g., remove the extra borders) to achieve recognition without involving the data subjects in the images. "
   ]
  }
 ],
 "metadata": {
  "kernelspec": {
   "display_name": "spec",
   "language": "python",
   "name": "python3"
  },
  "language_info": {
   "codemirror_mode": {
    "name": "ipython",
    "version": 3
   },
   "file_extension": ".py",
   "mimetype": "text/x-python",
   "name": "python",
   "nbconvert_exporter": "python",
   "pygments_lexer": "ipython3",
   "version": "3.7.15"
  },
  "orig_nbformat": 4,
  "vscode": {
   "interpreter": {
    "hash": "a16be7b04b7050b43b0a631d293cade952d5969c2521f169f330309364498d53"
   }
  }
 },
 "nbformat": 4,
 "nbformat_minor": 2
}
